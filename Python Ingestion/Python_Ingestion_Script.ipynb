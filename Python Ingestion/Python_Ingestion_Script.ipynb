{
  "cells": [
    {
      "cell_type": "code",
      "execution_count": null,
      "metadata": {
        "colab": {
          "base_uri": "https://localhost:8080/"
        },
        "id": "wRIZRgzKWgPU",
        "outputId": "c84c6072-15ae-4ab2-8aff-1a8013f05c35"
      },
      "outputs": [
        {
          "name": "stdout",
          "output_type": "stream",
          "text": [
            "Defaulting to user installation because normal site-packages is not writeable\n",
            "Requirement already satisfied: azure-storage-blob in /Users/karmayangchentenzin/Library/Python/3.9/lib/python/site-packages (12.19.1)\n",
            "Requirement already satisfied: azure-core<2.0.0,>=1.28.0 in /Users/karmayangchentenzin/Library/Python/3.9/lib/python/site-packages (from azure-storage-blob) (1.30.1)\n",
            "Requirement already satisfied: cryptography>=2.1.4 in /Users/karmayangchentenzin/Library/Python/3.9/lib/python/site-packages (from azure-storage-blob) (42.0.5)\n",
            "Requirement already satisfied: typing-extensions>=4.3.0 in /Users/karmayangchentenzin/Library/Python/3.9/lib/python/site-packages (from azure-storage-blob) (4.11.0)\n",
            "Requirement already satisfied: isodate>=0.6.1 in /Users/karmayangchentenzin/Library/Python/3.9/lib/python/site-packages (from azure-storage-blob) (0.6.1)\n",
            "Requirement already satisfied: requests>=2.21.0 in /Users/karmayangchentenzin/Library/Python/3.9/lib/python/site-packages (from azure-core<2.0.0,>=1.28.0->azure-storage-blob) (2.31.0)\n",
            "Requirement already satisfied: six>=1.11.0 in /Library/Developer/CommandLineTools/Library/Frameworks/Python3.framework/Versions/3.9/lib/python3.9/site-packages (from azure-core<2.0.0,>=1.28.0->azure-storage-blob) (1.15.0)\n",
            "Requirement already satisfied: cffi>=1.12 in /Users/karmayangchentenzin/Library/Python/3.9/lib/python/site-packages (from cryptography>=2.1.4->azure-storage-blob) (1.16.0)\n",
            "Requirement already satisfied: pycparser in /Users/karmayangchentenzin/Library/Python/3.9/lib/python/site-packages (from cffi>=1.12->cryptography>=2.1.4->azure-storage-blob) (2.22)\n",
            "Requirement already satisfied: charset-normalizer<4,>=2 in /Users/karmayangchentenzin/Library/Python/3.9/lib/python/site-packages (from requests>=2.21.0->azure-core<2.0.0,>=1.28.0->azure-storage-blob) (3.3.2)\n",
            "Requirement already satisfied: idna<4,>=2.5 in /Users/karmayangchentenzin/Library/Python/3.9/lib/python/site-packages (from requests>=2.21.0->azure-core<2.0.0,>=1.28.0->azure-storage-blob) (3.6)\n",
            "Requirement already satisfied: urllib3<3,>=1.21.1 in /Users/karmayangchentenzin/Library/Python/3.9/lib/python/site-packages (from requests>=2.21.0->azure-core<2.0.0,>=1.28.0->azure-storage-blob) (2.2.1)\n",
            "Requirement already satisfied: certifi>=2017.4.17 in /Users/karmayangchentenzin/Library/Python/3.9/lib/python/site-packages (from requests>=2.21.0->azure-core<2.0.0,>=1.28.0->azure-storage-blob) (2024.2.2)\n"
          ]
        }
      ],
      "source": [
        "!pip install azure-storage-blob\n",
        "!pip install psycopg2 sqlalchemy"
      ]
    },
    {
      "cell_type": "code",
      "execution_count": 2,
      "metadata": {},
      "outputs": [
        {
          "name": "stderr",
          "output_type": "stream",
          "text": [
            "/Users/karmayangchentenzin/Library/Python/3.9/lib/python/site-packages/urllib3/__init__.py:35: NotOpenSSLWarning: urllib3 v2 only supports OpenSSL 1.1.1+, currently the 'ssl' module is compiled with 'LibreSSL 2.8.3'. See: https://github.com/urllib3/urllib3/issues/3020\n",
            "  warnings.warn(\n"
          ]
        }
      ],
      "source": [
        "import pandas as pd\n",
        "import numpy as np\n",
        "import json\n",
        "import requests\n",
        "from io import StringIO\n",
        "from azure.storage.blob import BlobServiceClient, BlobClient, ContainerClient\n",
        "import os\n",
        "from math import ceil\n",
        "import datetime\n",
        "import calendar\n",
        "from sqlalchemy import create_engine"
      ]
    },
    {
      "cell_type": "code",
      "execution_count": 3,
      "metadata": {
        "colab": {
          "base_uri": "https://localhost:8080/"
        },
        "id": "ubyfEkZqZyYe",
        "outputId": "4833c8fe-7682-4ddd-c3b3-e161ae885830"
      },
      "outputs": [],
      "source": [
        "\n",
        "# Specify the file path in system\n",
        "file_path = r'/Users/karmayangchentenzin/Downloads/otc_data.csv'\n"
      ]
    },
    {
      "cell_type": "code",
      "execution_count": 4,
      "metadata": {},
      "outputs": [
        {
          "name": "stdout",
          "output_type": "stream",
          "text": [
            "File Contents: {\n",
            "    \"connectionString\": \"DefaultEndpointsProtocol=https;AccountName=cis4400group6project;AccountKey=NnFE78e1rGBmg6R+nMNaE/9zd63opn/UmjJe4tNUuZY1LMyZ47GpO3UfX27ky5Wd2qKA6aJz+wbj+AStF95sKQ==;EndpointSuffix=core.windows.net\"\n",
            "}\n",
            "\n"
          ]
        }
      ],
      "source": [
        "import os\n",
        "\n",
        "# Get the directory of the current notebook/script\n",
        "notebook_dir = os.getcwd()\n",
        "\n",
        "# Construct the path to the config.json file\n",
        "config_file_path = os.path.join(notebook_dir, 'config.json')\n",
        "\n",
        "# Load the JSON configuration file\n",
        "try:\n",
        "    with open(config_file_path, 'r') as config_file:\n",
        "        config = json.load(config_file)\n",
        "    # Access configuration values as needed\n",
        "    CONNECTION_STRING_AZURE_STORAGE = config[\"connectionString\"]\n",
        "    container_name = \"otcgroup6\"\n",
        "    blob_name = \"otc\"\n",
        "    # Continue with your code\n",
        "except FileNotFoundError:\n",
        "    print(f\"Config file not found at path: {config_file_path}\")\n",
        "except json.JSONDecodeError as e:\n",
        "    print(\"Error decoding JSON:\", e)\n",
        "\n",
        "\n",
        "with open(config_file_path, 'r') as config_file:\n",
        "    file_contents = config_file.read()\n",
        "    print(\"File Contents:\", file_contents)\n",
        "\n",
        "\n"
      ]
    },
    {
      "cell_type": "code",
      "execution_count": 5,
      "metadata": {
        "colab": {
          "base_uri": "https://localhost:8080/"
        },
        "id": "iNNhMvDEVuFd",
        "outputId": "d4acb52f-de13-43f6-e2f6-86854adc2f59"
      },
      "outputs": [
        {
          "name": "stdout",
          "output_type": "stream",
          "text": [
            "Uploaded otc to Azure Blob Storage in container otcgroup6\n"
          ]
        }
      ],
      "source": [
        "# Specify the path to your JSON configuration file\n",
        "config_file_path = 'config.json'\n",
        "\n",
        "# Load the JSON configuration file\n",
        "with open(config_file_path, 'r') as config_file:\n",
        "    config = json.load(config_file)\n",
        "\n",
        "# Azure Storage connection string and container name\n",
        "CONNECTION_STRING_AZURE_STORAGE = config[\"connectionString\"]\n",
        "container_name = \"otcgroup6\"\n",
        "blob_name = \"otc\"\n",
        "\n",
        "# Initialize BlobServiceClient\n",
        "blob_service_client = BlobServiceClient.from_connection_string(CONNECTION_STRING_AZURE_STORAGE)\n",
        "\n",
        "# Create a blob client using the container name and blob name\n",
        "#container_client = blob_service_client.get_container_client(CONTAINER_AZURE)\n",
        "blob_client = blob_service_client.get_blob_client(container=container_name, blob=os.path.basename(file_path))\n",
        "\n",
        "# Upload the csv file to Azure Blob Storage\n",
        "with open(file_path, \"rb\") as data:\n",
        "    blob_client.upload_blob(data)\n",
        "\n",
        "print(f\"Uploaded {blob_name} to Azure Blob Storage in container {container_name}\")\n"
      ]
    }
  ],
  "metadata": {
    "colab": {
      "provenance": []
    },
    "kernelspec": {
      "display_name": "Python 3",
      "name": "python3"
    },
    "language_info": {
      "codemirror_mode": {
        "name": "ipython",
        "version": 3
      },
      "file_extension": ".py",
      "mimetype": "text/x-python",
      "name": "python",
      "nbconvert_exporter": "python",
      "pygments_lexer": "ipython3",
      "version": "3.9.6"
    }
  },
  "nbformat": 4,
  "nbformat_minor": 0
}
