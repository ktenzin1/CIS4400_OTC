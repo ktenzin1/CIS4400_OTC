{
  "cells": [
    {
      "cell_type": "code",
      "execution_count": 6,
      "metadata": {
        "colab": {
          "base_uri": "https://localhost:8080/"
        },
        "id": "wRIZRgzKWgPU",
        "outputId": "c84c6072-15ae-4ab2-8aff-1a8013f05c35"
      },
      "outputs": [
        {
          "name": "stdout",
          "output_type": "stream",
          "text": [
            "Requirement already satisfied: azure-storage-blob in c:\\program files\\python310\\lib\\site-packages (12.20.0)\n",
            "Requirement already satisfied: cryptography>=2.1.4 in c:\\program files\\python310\\lib\\site-packages (from azure-storage-blob) (42.0.7)\n",
            "Requirement already satisfied: azure-core>=1.28.0 in c:\\program files\\python310\\lib\\site-packages (from azure-storage-blob) (1.30.1)\n",
            "Requirement already satisfied: typing-extensions>=4.6.0 in c:\\users\\k.tenzin1\\appdata\\roaming\\python\\python310\\site-packages (from azure-storage-blob) (4.11.0)\n",
            "Requirement already satisfied: isodate>=0.6.1 in c:\\program files\\python310\\lib\\site-packages (from azure-storage-blob) (0.6.1)\n",
            "Requirement already satisfied: six>=1.11.0 in c:\\program files\\python310\\lib\\site-packages (from azure-core>=1.28.0->azure-storage-blob) (1.16.0)\n",
            "Requirement already satisfied: requests>=2.21.0 in c:\\program files\\python310\\lib\\site-packages (from azure-core>=1.28.0->azure-storage-blob) (2.31.0)\n",
            "Requirement already satisfied: cffi>=1.12 in c:\\program files\\python310\\lib\\site-packages (from cryptography>=2.1.4->azure-storage-blob) (1.16.0)\n",
            "Requirement already satisfied: pycparser in c:\\program files\\python310\\lib\\site-packages (from cffi>=1.12->cryptography>=2.1.4->azure-storage-blob) (2.22)\n",
            "Requirement already satisfied: certifi>=2017.4.17 in c:\\program files\\python310\\lib\\site-packages (from requests>=2.21.0->azure-core>=1.28.0->azure-storage-blob) (2024.2.2)\n",
            "Requirement already satisfied: idna<4,>=2.5 in c:\\program files\\python310\\lib\\site-packages (from requests>=2.21.0->azure-core>=1.28.0->azure-storage-blob) (3.2)\n",
            "Requirement already satisfied: charset-normalizer<4,>=2 in c:\\program files\\python310\\lib\\site-packages (from requests>=2.21.0->azure-core>=1.28.0->azure-storage-blob) (3.3.2)\n",
            "Requirement already satisfied: urllib3<3,>=1.21.1 in c:\\program files\\python310\\lib\\site-packages (from requests>=2.21.0->azure-core>=1.28.0->azure-storage-blob) (2.2.1)\n",
            "Note: you may need to restart the kernel to use updated packages.\n"
          ]
        },
        {
          "name": "stderr",
          "output_type": "stream",
          "text": [
            "WARNING: You are using pip version 21.2.4; however, version 24.0 is available.\n",
            "You should consider upgrading via the 'c:\\Program Files\\Python310\\python.exe -m pip install --upgrade pip' command.\n"
          ]
        },
        {
          "name": "stdout",
          "output_type": "stream",
          "text": [
            "Requirement already satisfied: psycopg2 in c:\\program files\\python310\\lib\\site-packages (2.9.9)\n",
            "Requirement already satisfied: sqlalchemy in c:\\program files\\python310\\lib\\site-packages (1.3.22)\n",
            "Note: you may need to restart the kernel to use updated packages.\n"
          ]
        },
        {
          "name": "stderr",
          "output_type": "stream",
          "text": [
            "WARNING: You are using pip version 21.2.4; however, version 24.0 is available.\n",
            "You should consider upgrading via the 'c:\\Program Files\\Python310\\python.exe -m pip install --upgrade pip' command.\n"
          ]
        },
        {
          "name": "stdout",
          "output_type": "stream",
          "text": [
            "Requirement already satisfied: sqlalchemy in c:\\program files\\python310\\lib\\site-packages (1.3.22)\n",
            "Requirement already satisfied: psycopg2-binary in c:\\program files\\python310\\lib\\site-packages (2.9.9)\n",
            "Note: you may need to restart the kernel to use updated packages.\n"
          ]
        },
        {
          "name": "stderr",
          "output_type": "stream",
          "text": [
            "WARNING: You are using pip version 21.2.4; however, version 24.0 is available.\n",
            "You should consider upgrading via the 'c:\\Program Files\\Python310\\python.exe -m pip install --upgrade pip' command.\n"
          ]
        },
        {
          "name": "stdout",
          "output_type": "stream",
          "text": [
            "Requirement already satisfied: google-cloud-storage in c:\\program files\\python310\\lib\\site-packages (2.16.0)\n",
            "Requirement already satisfied: google-api-core<3.0.0dev,>=2.15.0 in c:\\program files\\python310\\lib\\site-packages (from google-cloud-storage) (2.19.0)\n",
            "Requirement already satisfied: google-crc32c<2.0dev,>=1.0 in c:\\program files\\python310\\lib\\site-packages (from google-cloud-storage) (1.5.0)\n",
            "Requirement already satisfied: google-auth<3.0dev,>=2.26.1 in c:\\program files\\python310\\lib\\site-packages (from google-cloud-storage) (2.29.0)\n",
            "Requirement already satisfied: google-resumable-media>=2.6.0 in c:\\program files\\python310\\lib\\site-packages (from google-cloud-storage) (2.7.0)\n",
            "Requirement already satisfied: requests<3.0.0dev,>=2.18.0 in c:\\program files\\python310\\lib\\site-packages (from google-cloud-storage) (2.31.0)\n",
            "Requirement already satisfied: google-cloud-core<3.0dev,>=2.3.0 in c:\\program files\\python310\\lib\\site-packages (from google-cloud-storage) (2.4.1)\n",
            "Requirement already satisfied: proto-plus<2.0.0dev,>=1.22.3 in c:\\program files\\python310\\lib\\site-packages (from google-api-core<3.0.0dev,>=2.15.0->google-cloud-storage) (1.23.0)\n",
            "Requirement already satisfied: protobuf!=3.20.0,!=3.20.1,!=4.21.0,!=4.21.1,!=4.21.2,!=4.21.3,!=4.21.4,!=4.21.5,<5.0.0.dev0,>=3.19.5 in c:\\program files\\python310\\lib\\site-packages (from google-api-core<3.0.0dev,>=2.15.0->google-cloud-storage) (4.25.3)\n",
            "Requirement already satisfied: googleapis-common-protos<2.0.dev0,>=1.56.2 in c:\\program files\\python310\\lib\\site-packages (from google-api-core<3.0.0dev,>=2.15.0->google-cloud-storage) (1.63.0)\n",
            "Requirement already satisfied: rsa<5,>=3.1.4 in c:\\program files\\python310\\lib\\site-packages (from google-auth<3.0dev,>=2.26.1->google-cloud-storage) (4.9)\n",
            "Requirement already satisfied: pyasn1-modules>=0.2.1 in c:\\program files\\python310\\lib\\site-packages (from google-auth<3.0dev,>=2.26.1->google-cloud-storage) (0.4.0)\n",
            "Requirement already satisfied: cachetools<6.0,>=2.0.0 in c:\\program files\\python310\\lib\\site-packages (from google-auth<3.0dev,>=2.26.1->google-cloud-storage) (5.3.3)\n",
            "Requirement already satisfied: pyasn1<0.7.0,>=0.4.6 in c:\\program files\\python310\\lib\\site-packages (from pyasn1-modules>=0.2.1->google-auth<3.0dev,>=2.26.1->google-cloud-storage) (0.6.0)\n",
            "Requirement already satisfied: idna<4,>=2.5 in c:\\program files\\python310\\lib\\site-packages (from requests<3.0.0dev,>=2.18.0->google-cloud-storage) (3.2)\n",
            "Requirement already satisfied: certifi>=2017.4.17 in c:\\program files\\python310\\lib\\site-packages (from requests<3.0.0dev,>=2.18.0->google-cloud-storage) (2024.2.2)\n",
            "Requirement already satisfied: urllib3<3,>=1.21.1 in c:\\program files\\python310\\lib\\site-packages (from requests<3.0.0dev,>=2.18.0->google-cloud-storage) (2.2.1)\n",
            "Requirement already satisfied: charset-normalizer<4,>=2 in c:\\program files\\python310\\lib\\site-packages (from requests<3.0.0dev,>=2.18.0->google-cloud-storage) (3.3.2)\n",
            "Note: you may need to restart the kernel to use updated packages.\n"
          ]
        },
        {
          "name": "stderr",
          "output_type": "stream",
          "text": [
            "WARNING: You are using pip version 21.2.4; however, version 24.0 is available.\n",
            "You should consider upgrading via the 'c:\\Program Files\\Python310\\python.exe -m pip install --upgrade pip' command.\n"
          ]
        },
        {
          "name": "stdout",
          "output_type": "stream",
          "text": [
            "Collecting google-cloud-bigquery\n",
            "  Downloading google_cloud_bigquery-3.22.0-py2.py3-none-any.whl (236 kB)\n",
            "Requirement already satisfied: python-dateutil<3.0dev,>=2.7.2 in c:\\users\\k.tenzin1\\appdata\\roaming\\python\\python310\\site-packages (from google-cloud-bigquery) (2.9.0.post0)\n",
            "Requirement already satisfied: requests<3.0.0dev,>=2.21.0 in c:\\program files\\python310\\lib\\site-packages (from google-cloud-bigquery) (2.31.0)\n",
            "Requirement already satisfied: google-auth<3.0.0dev,>=2.14.1 in c:\\program files\\python310\\lib\\site-packages (from google-cloud-bigquery) (2.29.0)\n",
            "Requirement already satisfied: google-api-core[grpc]!=2.0.*,!=2.1.*,!=2.10.*,!=2.2.*,!=2.3.*,!=2.4.*,!=2.5.*,!=2.6.*,!=2.7.*,!=2.8.*,!=2.9.*,<3.0.0dev,>=1.34.1 in c:\\program files\\python310\\lib\\site-packages (from google-cloud-bigquery) (2.19.0)\n",
            "Requirement already satisfied: google-resumable-media<3.0dev,>=0.6.0 in c:\\program files\\python310\\lib\\site-packages (from google-cloud-bigquery) (2.7.0)\n",
            "Requirement already satisfied: packaging>=20.0.0 in c:\\users\\k.tenzin1\\appdata\\roaming\\python\\python310\\site-packages (from google-cloud-bigquery) (24.0)\n",
            "Requirement already satisfied: google-cloud-core<3.0.0dev,>=1.6.0 in c:\\program files\\python310\\lib\\site-packages (from google-cloud-bigquery) (2.4.1)\n",
            "Requirement already satisfied: protobuf!=3.20.0,!=3.20.1,!=4.21.0,!=4.21.1,!=4.21.2,!=4.21.3,!=4.21.4,!=4.21.5,<5.0.0.dev0,>=3.19.5 in c:\\program files\\python310\\lib\\site-packages (from google-api-core[grpc]!=2.0.*,!=2.1.*,!=2.10.*,!=2.2.*,!=2.3.*,!=2.4.*,!=2.5.*,!=2.6.*,!=2.7.*,!=2.8.*,!=2.9.*,<3.0.0dev,>=1.34.1->google-cloud-bigquery) (4.25.3)\n",
            "Requirement already satisfied: googleapis-common-protos<2.0.dev0,>=1.56.2 in c:\\program files\\python310\\lib\\site-packages (from google-api-core[grpc]!=2.0.*,!=2.1.*,!=2.10.*,!=2.2.*,!=2.3.*,!=2.4.*,!=2.5.*,!=2.6.*,!=2.7.*,!=2.8.*,!=2.9.*,<3.0.0dev,>=1.34.1->google-cloud-bigquery) (1.63.0)\n",
            "Requirement already satisfied: proto-plus<2.0.0dev,>=1.22.3 in c:\\program files\\python310\\lib\\site-packages (from google-api-core[grpc]!=2.0.*,!=2.1.*,!=2.10.*,!=2.2.*,!=2.3.*,!=2.4.*,!=2.5.*,!=2.6.*,!=2.7.*,!=2.8.*,!=2.9.*,<3.0.0dev,>=1.34.1->google-cloud-bigquery) (1.23.0)\n",
            "Collecting grpcio<2.0dev,>=1.33.2\n",
            "  Downloading grpcio-1.63.0-cp310-cp310-win_amd64.whl (3.9 MB)\n",
            "Collecting grpcio-status<2.0.dev0,>=1.33.2\n",
            "  Downloading grpcio_status-1.63.0-py3-none-any.whl (14 kB)\n",
            "Requirement already satisfied: rsa<5,>=3.1.4 in c:\\program files\\python310\\lib\\site-packages (from google-auth<3.0.0dev,>=2.14.1->google-cloud-bigquery) (4.9)\n",
            "Requirement already satisfied: pyasn1-modules>=0.2.1 in c:\\program files\\python310\\lib\\site-packages (from google-auth<3.0.0dev,>=2.14.1->google-cloud-bigquery) (0.4.0)\n",
            "Requirement already satisfied: cachetools<6.0,>=2.0.0 in c:\\program files\\python310\\lib\\site-packages (from google-auth<3.0.0dev,>=2.14.1->google-cloud-bigquery) (5.3.3)\n",
            "Requirement already satisfied: google-crc32c<2.0dev,>=1.0 in c:\\program files\\python310\\lib\\site-packages (from google-resumable-media<3.0dev,>=0.6.0->google-cloud-bigquery) (1.5.0)\n",
            "  Downloading grpcio_status-1.62.2-py3-none-any.whl (14 kB)\n",
            "Requirement already satisfied: pyasn1<0.7.0,>=0.4.6 in c:\\program files\\python310\\lib\\site-packages (from pyasn1-modules>=0.2.1->google-auth<3.0.0dev,>=2.14.1->google-cloud-bigquery) (0.6.0)\n",
            "Requirement already satisfied: six>=1.5 in c:\\program files\\python310\\lib\\site-packages (from python-dateutil<3.0dev,>=2.7.2->google-cloud-bigquery) (1.16.0)\n",
            "Requirement already satisfied: idna<4,>=2.5 in c:\\program files\\python310\\lib\\site-packages (from requests<3.0.0dev,>=2.21.0->google-cloud-bigquery) (3.2)\n",
            "Requirement already satisfied: charset-normalizer<4,>=2 in c:\\program files\\python310\\lib\\site-packages (from requests<3.0.0dev,>=2.21.0->google-cloud-bigquery) (3.3.2)\n",
            "Requirement already satisfied: certifi>=2017.4.17 in c:\\program files\\python310\\lib\\site-packages (from requests<3.0.0dev,>=2.21.0->google-cloud-bigquery) (2024.2.2)\n",
            "Requirement already satisfied: urllib3<3,>=1.21.1 in c:\\program files\\python310\\lib\\site-packages (from requests<3.0.0dev,>=2.21.0->google-cloud-bigquery) (2.2.1)\n",
            "Installing collected packages: grpcio, grpcio-status, google-cloud-bigquery\n",
            "Successfully installed google-cloud-bigquery-3.22.0 grpcio-1.63.0 grpcio-status-1.62.2\n",
            "Note: you may need to restart the kernel to use updated packages.\n"
          ]
        },
        {
          "name": "stderr",
          "output_type": "stream",
          "text": [
            "WARNING: You are using pip version 21.2.4; however, version 24.0 is available.\n",
            "You should consider upgrading via the 'c:\\Program Files\\Python310\\python.exe -m pip install --upgrade pip' command.\n"
          ]
        }
      ],
      "source": [
        "%pip install azure-storage-blob\n",
        "%pip install psycopg2 sqlalchemy\n",
        "%pip install sqlalchemy psycopg2-binary\n",
        "%pip install google-cloud-storage\n",
        "%pip install google-cloud-bigquery\n",
        "\n"
      ]
    },
    {
      "cell_type": "code",
      "execution_count": 7,
      "metadata": {},
      "outputs": [],
      "source": [
        "import pandas as pd\n",
        "import numpy as np\n",
        "import json\n",
        "import requests\n",
        "from io import StringIO\n",
        "from azure.storage.blob import BlobServiceClient, BlobClient, ContainerClient\n",
        "import os\n",
        "from math import ceil\n",
        "import datetime\n",
        "import calendar\n",
        "from sqlalchemy import create_engine\n",
        "import psycopg2\n",
        "from google.cloud import storage"
      ]
    },
    {
      "cell_type": "code",
      "execution_count": null,
      "metadata": {},
      "outputs": [],
      "source": [
        "# Extracting data from source and storing in Google Cloud\n",
        "\n",
        "# Specify the path to your JSON configuration file\n",
        "config_file_path = 'config.json'\n",
        "\n",
        "# Load the JSON configuration file\n",
        "with open(config_file_path, 'r') as config_file:\n",
        "    config = json.load(config_file)\n",
        "\n",
        "# Azure Storage connection string and container name\n",
        "CONNECTION_STRING_AZURE_STORAGE = config[\"connectionString\"]\n",
        "container_name = \"otcgroup6\"\n",
        "blob_name = \"otc_data.csv\"\n",
        "\n",
        "# Initialize BlobServiceClient\n",
        "blob_service_client = BlobServiceClient.from_connection_string(CONNECTION_STRING_AZURE_STORAGE)\n",
        "\n",
        "# Create a blob client using the container name and blob name\n",
        "#container_client = blob_service_client.get_container_client(CONTAINER_AZURE)\n",
        "blob_client = blob_service_client.get_blob_client(container=container_name, blob=os.path.basename(file_path))\n",
        "\n",
        "# Upload the csv file to Azure Blob Storage\n",
        "with open(file_path, \"rb\") as data:\n",
        "    blob_client.upload_blob(data)\n",
        "\n",
        "print(f\"Uploaded {blob_name} to Azure Blob Storage in container {container_name}\")\n"
      ]
    },
    {
      "cell_type": "code",
      "execution_count": null,
      "metadata": {},
      "outputs": [],
      "source": [
        "# Reading data stored in Google Cloud and making a copy of the data frame to do ETL.\n",
        "\n",
        "# Specify the path to your JSON configuration file\n",
        "config_file_path = 'config.json'\n",
        "\n",
        "# Load the JSON configuration file\n",
        "with open(config_file_path, 'r') as config_file:\n",
        "    config = json.load(config_file)\n",
        "\n",
        "# Azure Storage connection string and container name\n",
        "CONNECTION_STRING_AZURE_STORAGE = config[\"connectionString\"]\n",
        "container_name = \"otcgroup6\"\n",
        "\n",
        "# Initialize BlobServiceClient\n",
        "blob_service_client = BlobServiceClient.from_connection_string(CONNECTION_STRING_AZURE_STORAGE)\n",
        "\n",
        "# Create a blob client using the container name and blob name\n",
        "blob_client = blob_service_client.get_container_client(container_name)\n",
        "\n",
        "otc_df = pd.DataFrame()\n",
        "\n",
        "# List all blobs in the specified container\n",
        "blob_list = blob_client.list_blobs()\n",
        "for blob in blob_list:\n",
        "    print(blob.name)\n",
        "    blob_client = blob_client.get_blob_client(blob=blob.name)\n",
        "    blob_data = blob_client.download_blob()\n",
        "    blob_content = blob_data.readall().decode('utf-8')\n",
        "    df = pd.read_csv(StringIO(blob_content))\n",
        "\n",
        "    # Display the head of the DataFrame\n",
        "    print(df.shape)\n",
        "\n",
        "    otc_df = df.copy()\n",
        "\n",
        "\n",
        "otc_df.head()"
      ]
    },
    {
      "cell_type": "code",
      "execution_count": 5,
      "metadata": {},
      "outputs": [
        {
          "data": {
            "text/plain": [
              "Index(['SECID', 'CompID', 'Symbol', 'CUSIP', 'Issue', 'Venue', 'SecType',\n",
              "       'Class', 'CaveatEmptor', 'TierName', 'DAD_PAL', 'ClosingInsideBidPrice',\n",
              "       'ClosingInsideBidPriceDate', 'ClosingInsideAskPrice',\n",
              "       'ClosingInsideAskPriceDate', 'InsideBid_AskMidPrice', 'OpenPrice',\n",
              "       'HighPrice', 'LowPrice', 'LastPrice', 'PreviousClosePrice',\n",
              "       'PreviousCloseDate', 'ShareVolume', 'DollarVol', 'TradeCount',\n",
              "       'OTCLinkDolVol', 'OTCLinkShareVol', 'OTCLinkExecCount', 'SHOFlag',\n",
              "       'Rule3210Flag', 'ShortIntVol', 'ShortInterestDate', 'MMIDCount',\n",
              "       'BFCMmid', 'TierID', 'ClosingBestBid', 'ClosingBestBidDate',\n",
              "       'BestBidSource', 'ClosingBestAsk', 'ClosingBestAskDate',\n",
              "       'BestAskSource', 'SecurityStatus', 'SharesOutstanding',\n",
              "       'SharesOutstandingAsOfDate'],\n",
              "      dtype='object')"
            ]
          },
          "execution_count": 5,
          "metadata": {},
          "output_type": "execute_result"
        }
      ],
      "source": [
        "otc_df.columns"
      ]
    },
    {
      "cell_type": "code",
      "execution_count": 6,
      "metadata": {},
      "outputs": [
        {
          "data": {
            "text/html": [
              "<div>\n",
              "<style scoped>\n",
              "    .dataframe tbody tr th:only-of-type {\n",
              "        vertical-align: middle;\n",
              "    }\n",
              "\n",
              "    .dataframe tbody tr th {\n",
              "        vertical-align: top;\n",
              "    }\n",
              "\n",
              "    .dataframe thead th {\n",
              "        text-align: right;\n",
              "    }\n",
              "</style>\n",
              "<table border=\"1\" class=\"dataframe\">\n",
              "  <thead>\n",
              "    <tr style=\"text-align: right;\">\n",
              "      <th></th>\n",
              "      <th>SECID</th>\n",
              "      <th>CompID</th>\n",
              "      <th>Symbol</th>\n",
              "      <th>CUSIP</th>\n",
              "      <th>Issue</th>\n",
              "      <th>Venue</th>\n",
              "      <th>SecType</th>\n",
              "      <th>Class</th>\n",
              "      <th>CaveatEmptor</th>\n",
              "      <th>TierName</th>\n",
              "      <th>...</th>\n",
              "      <th>TierID</th>\n",
              "      <th>ClosingBestBid</th>\n",
              "      <th>ClosingBestBidDate</th>\n",
              "      <th>BestBidSource</th>\n",
              "      <th>ClosingBestAsk</th>\n",
              "      <th>ClosingBestAskDate</th>\n",
              "      <th>BestAskSource</th>\n",
              "      <th>SecurityStatus</th>\n",
              "      <th>SharesOutstanding</th>\n",
              "      <th>SharesOutstandingAsOfDate</th>\n",
              "    </tr>\n",
              "  </thead>\n",
              "  <tbody>\n",
              "    <tr>\n",
              "      <th>0</th>\n",
              "      <td>100010</td>\n",
              "      <td>649124</td>\n",
              "      <td>GPGPF</td>\n",
              "      <td>G4205Y111</td>\n",
              "      <td>GUINESS PEAT GRP PLC</td>\n",
              "      <td>Grey Market</td>\n",
              "      <td>Ordinary Shares</td>\n",
              "      <td>NaN</td>\n",
              "      <td>N</td>\n",
              "      <td>Grey Market</td>\n",
              "      <td>...</td>\n",
              "      <td>30.0</td>\n",
              "      <td>NaN</td>\n",
              "      <td>2011-09-01</td>\n",
              "      <td>NaN</td>\n",
              "      <td>NaN</td>\n",
              "      <td>2011-09-01</td>\n",
              "      <td>NaN</td>\n",
              "      <td>Active</td>\n",
              "      <td>NaN</td>\n",
              "      <td>NaN</td>\n",
              "    </tr>\n",
              "    <tr>\n",
              "      <th>1</th>\n",
              "      <td>100010</td>\n",
              "      <td>649124</td>\n",
              "      <td>GPGPF</td>\n",
              "      <td>G4205Y111</td>\n",
              "      <td>GUINESS PEAT GRP PLC</td>\n",
              "      <td>Grey Market</td>\n",
              "      <td>Ordinary Shares</td>\n",
              "      <td>NaN</td>\n",
              "      <td>N</td>\n",
              "      <td>Grey Market</td>\n",
              "      <td>...</td>\n",
              "      <td>30.0</td>\n",
              "      <td>NaN</td>\n",
              "      <td>2011-09-02</td>\n",
              "      <td>NaN</td>\n",
              "      <td>NaN</td>\n",
              "      <td>2011-09-02</td>\n",
              "      <td>NaN</td>\n",
              "      <td>Active</td>\n",
              "      <td>NaN</td>\n",
              "      <td>NaN</td>\n",
              "    </tr>\n",
              "    <tr>\n",
              "      <th>2</th>\n",
              "      <td>100010</td>\n",
              "      <td>649124</td>\n",
              "      <td>GPGPF</td>\n",
              "      <td>G4205Y111</td>\n",
              "      <td>GUINESS PEAT GRP PLC</td>\n",
              "      <td>Grey Market</td>\n",
              "      <td>Ordinary Shares</td>\n",
              "      <td>NaN</td>\n",
              "      <td>N</td>\n",
              "      <td>Grey Market</td>\n",
              "      <td>...</td>\n",
              "      <td>30.0</td>\n",
              "      <td>NaN</td>\n",
              "      <td>2011-09-06</td>\n",
              "      <td>NaN</td>\n",
              "      <td>NaN</td>\n",
              "      <td>2011-09-06</td>\n",
              "      <td>NaN</td>\n",
              "      <td>Active</td>\n",
              "      <td>NaN</td>\n",
              "      <td>NaN</td>\n",
              "    </tr>\n",
              "    <tr>\n",
              "      <th>3</th>\n",
              "      <td>100010</td>\n",
              "      <td>649124</td>\n",
              "      <td>GPGPF</td>\n",
              "      <td>G4205Y111</td>\n",
              "      <td>GUINESS PEAT GRP PLC</td>\n",
              "      <td>Grey Market</td>\n",
              "      <td>Ordinary Shares</td>\n",
              "      <td>NaN</td>\n",
              "      <td>N</td>\n",
              "      <td>Grey Market</td>\n",
              "      <td>...</td>\n",
              "      <td>30.0</td>\n",
              "      <td>NaN</td>\n",
              "      <td>2011-09-07</td>\n",
              "      <td>NaN</td>\n",
              "      <td>NaN</td>\n",
              "      <td>2011-09-07</td>\n",
              "      <td>NaN</td>\n",
              "      <td>Active</td>\n",
              "      <td>NaN</td>\n",
              "      <td>NaN</td>\n",
              "    </tr>\n",
              "    <tr>\n",
              "      <th>4</th>\n",
              "      <td>100010</td>\n",
              "      <td>649124</td>\n",
              "      <td>GPGPF</td>\n",
              "      <td>G4205Y111</td>\n",
              "      <td>GUINESS PEAT GRP PLC</td>\n",
              "      <td>Grey Market</td>\n",
              "      <td>Ordinary Shares</td>\n",
              "      <td>NaN</td>\n",
              "      <td>N</td>\n",
              "      <td>Grey Market</td>\n",
              "      <td>...</td>\n",
              "      <td>30.0</td>\n",
              "      <td>NaN</td>\n",
              "      <td>2011-09-08</td>\n",
              "      <td>NaN</td>\n",
              "      <td>NaN</td>\n",
              "      <td>2011-09-08</td>\n",
              "      <td>NaN</td>\n",
              "      <td>Active</td>\n",
              "      <td>NaN</td>\n",
              "      <td>NaN</td>\n",
              "    </tr>\n",
              "  </tbody>\n",
              "</table>\n",
              "<p>5 rows × 44 columns</p>\n",
              "</div>"
            ],
            "text/plain": [
              "    SECID  CompID Symbol      CUSIP                 Issue        Venue  \\\n",
              "0  100010  649124  GPGPF  G4205Y111  GUINESS PEAT GRP PLC  Grey Market   \n",
              "1  100010  649124  GPGPF  G4205Y111  GUINESS PEAT GRP PLC  Grey Market   \n",
              "2  100010  649124  GPGPF  G4205Y111  GUINESS PEAT GRP PLC  Grey Market   \n",
              "3  100010  649124  GPGPF  G4205Y111  GUINESS PEAT GRP PLC  Grey Market   \n",
              "4  100010  649124  GPGPF  G4205Y111  GUINESS PEAT GRP PLC  Grey Market   \n",
              "\n",
              "           SecType Class CaveatEmptor     TierName  ... TierID  \\\n",
              "0  Ordinary Shares   NaN            N  Grey Market  ...   30.0   \n",
              "1  Ordinary Shares   NaN            N  Grey Market  ...   30.0   \n",
              "2  Ordinary Shares   NaN            N  Grey Market  ...   30.0   \n",
              "3  Ordinary Shares   NaN            N  Grey Market  ...   30.0   \n",
              "4  Ordinary Shares   NaN            N  Grey Market  ...   30.0   \n",
              "\n",
              "   ClosingBestBid ClosingBestBidDate  BestBidSource ClosingBestAsk  \\\n",
              "0             NaN         2011-09-01            NaN            NaN   \n",
              "1             NaN         2011-09-02            NaN            NaN   \n",
              "2             NaN         2011-09-06            NaN            NaN   \n",
              "3             NaN         2011-09-07            NaN            NaN   \n",
              "4             NaN         2011-09-08            NaN            NaN   \n",
              "\n",
              "   ClosingBestAskDate  BestAskSource  SecurityStatus  SharesOutstanding  \\\n",
              "0          2011-09-01            NaN          Active                NaN   \n",
              "1          2011-09-02            NaN          Active                NaN   \n",
              "2          2011-09-06            NaN          Active                NaN   \n",
              "3          2011-09-07            NaN          Active                NaN   \n",
              "4          2011-09-08            NaN          Active                NaN   \n",
              "\n",
              "   SharesOutstandingAsOfDate  \n",
              "0                        NaN  \n",
              "1                        NaN  \n",
              "2                        NaN  \n",
              "3                        NaN  \n",
              "4                        NaN  \n",
              "\n",
              "[5 rows x 44 columns]"
            ]
          },
          "execution_count": 6,
          "metadata": {},
          "output_type": "execute_result"
        }
      ],
      "source": [
        "otc_df.head()"
      ]
    },
    {
      "cell_type": "code",
      "execution_count": 7,
      "metadata": {},
      "outputs": [
        {
          "name": "stdout",
          "output_type": "stream",
          "text": [
            "    SECID  CompID Symbol      CUSIP                 Issue        Venue  \\\n",
            "0  100010  649124  GPGPF  G4205Y111  GUINESS PEAT GRP PLC  Grey Market   \n",
            "1  100010  649124  GPGPF  G4205Y111  GUINESS PEAT GRP PLC  Grey Market   \n",
            "2  100010  649124  GPGPF  G4205Y111  GUINESS PEAT GRP PLC  Grey Market   \n",
            "3  100010  649124  GPGPF  G4205Y111  GUINESS PEAT GRP PLC  Grey Market   \n",
            "4  100010  649124  GPGPF  G4205Y111  GUINESS PEAT GRP PLC  Grey Market   \n",
            "\n",
            "           SecType     TierName  ClosingInsideBidPrice  \\\n",
            "0  Ordinary Shares  Grey Market                    NaN   \n",
            "1  Ordinary Shares  Grey Market                    NaN   \n",
            "2  Ordinary Shares  Grey Market                    NaN   \n",
            "3  Ordinary Shares  Grey Market                    NaN   \n",
            "4  Ordinary Shares  Grey Market                    NaN   \n",
            "\n",
            "  ClosingInsideBidPriceDate  ...  MMIDCount BFCMmid  TierID  ClosingBestBid  \\\n",
            "0                       NaN  ...        NaN     NaN    30.0             NaN   \n",
            "1                       NaN  ...        NaN     NaN    30.0             NaN   \n",
            "2                       NaN  ...        NaN     NaN    30.0             NaN   \n",
            "3                       NaN  ...        NaN     NaN    30.0             NaN   \n",
            "4                       NaN  ...        NaN     NaN    30.0             NaN   \n",
            "\n",
            "   ClosingBestBidDate  ClosingBestAsk  ClosingBestAskDate  SecurityStatus  \\\n",
            "0          2011-09-01             NaN          2011-09-01          Active   \n",
            "1          2011-09-02             NaN          2011-09-02          Active   \n",
            "2          2011-09-06             NaN          2011-09-06          Active   \n",
            "3          2011-09-07             NaN          2011-09-07          Active   \n",
            "4          2011-09-08             NaN          2011-09-08          Active   \n",
            "\n",
            "  SharesOutstanding  SharesOutstandingAsOfDate  \n",
            "0               NaN                        NaN  \n",
            "1               NaN                        NaN  \n",
            "2               NaN                        NaN  \n",
            "3               NaN                        NaN  \n",
            "4               NaN                        NaN  \n",
            "\n",
            "[5 rows x 37 columns]\n"
          ]
        }
      ],
      "source": [
        "# Transformation:\n",
        "\n",
        "# remove the following columns because they are irrelevant to our project.\n",
        "columns_to_remove = ['Class', 'CaveatEmptor', 'DAD_PAL', 'SHOFlag', 'Rule3210Flag', 'BestBidSource', 'BestAskSource'] \n",
        " \n",
        "# Drop the specified columns from the DataFrame\n",
        "otc_df = otc_df.drop(columns=columns_to_remove)\n",
        " \n",
        "# Display the modified DataFrame\n",
        "print(otc_df.head())"
      ]
    },
    {
      "cell_type": "code",
      "execution_count": 23,
      "metadata": {},
      "outputs": [
        {
          "name": "stdout",
          "output_type": "stream",
          "text": [
            "Index(['SECID', 'CompID', 'Symbol', 'CUSIP', 'Issue', 'Venue', 'SecType',\n",
            "       'TierName', 'ClosingInsideBidPrice', 'ClosingInsideBidPriceDate',\n",
            "       'ClosingInsideAskPrice', 'ClosingInsideAskPriceDate',\n",
            "       'InsideBid_AskMidPrice', 'OpenPrice', 'HighPrice', 'LowPrice',\n",
            "       'LastPrice', 'PreviousClosePrice', 'PreviousCloseDate', 'ShareVolume',\n",
            "       'DollarVol', 'TradeCount', 'OTCLinkDolVol', 'OTCLinkShareVol',\n",
            "       'OTCLinkExecCount', 'ShortIntVol', 'ShortInterestDate', 'MMIDCount',\n",
            "       'BFCMmid', 'TierID', 'ClosingBestBid', 'ClosingBestBidDate',\n",
            "       'ClosingBestAsk', 'ClosingBestAskDate', 'SecurityStatus',\n",
            "       'SharesOutstanding', 'SharesOutstandingAsOfDate'],\n",
            "      dtype='object')\n"
          ]
        }
      ],
      "source": [
        "print(otc_df.columns)\n"
      ]
    },
    {
      "cell_type": "code",
      "execution_count": 24,
      "metadata": {},
      "outputs": [
        {
          "name": "stdout",
          "output_type": "stream",
          "text": [
            "      OpenPrice  HighPrice  LowPrice  LastPrice\n",
            "66         0.50       0.50      0.50       0.50\n",
            "306        0.45       0.45      0.45       0.45\n",
            "2282      86.00      86.00     86.00      86.00\n",
            "2289      90.00      90.00     90.00      90.00\n",
            "2338      86.00      95.00     86.00      95.00\n"
          ]
        }
      ],
      "source": [
        "print(otc_df[otc_df[['OpenPrice', 'HighPrice', 'LowPrice', 'LastPrice']].notna().all(axis=1)]\n",
        "      [['OpenPrice', 'HighPrice', 'LowPrice', 'LastPrice']].head())"
      ]
    },
    {
      "cell_type": "code",
      "execution_count": 25,
      "metadata": {},
      "outputs": [
        {
          "name": "stdout",
          "output_type": "stream",
          "text": [
            "       SECID  CompID Symbol      CUSIP                 Issue        Venue  \\\n",
            "66    100010  649124  GPGPF  G4205Y111  GUINESS PEAT GRP PLC  Grey Market   \n",
            "306   100010  649124  GPGPF  G4205Y111  GUINESS PEAT GRP PLC  Grey Market   \n",
            "2282   10002   26620   DAFL  262507106       DU ART FILM LAB     OTC Link   \n",
            "2289   10002   26620   DAFL  262507106       DU ART FILM LAB     OTC Link   \n",
            "2338   10002   26620   DAFL  262507106       DU ART FILM LAB     OTC Link   \n",
            "\n",
            "              SecType                 TierName  ClosingInsideBidPrice  \\\n",
            "66    Ordinary Shares              Grey Market                    NaN   \n",
            "306   Ordinary Shares              Grey Market                    NaN   \n",
            "2282     Common Stock  OTC Pink No Information                   86.0   \n",
            "2289     Common Stock  OTC Pink No Information                   86.0   \n",
            "2338     Common Stock  OTC Pink No Information                   86.0   \n",
            "\n",
            "     ClosingInsideBidPriceDate  ...  MMIDCount BFCMmid  TierID  \\\n",
            "66                         NaN  ...        NaN     NaN    30.0   \n",
            "306                        NaN  ...        NaN     NaN    30.0   \n",
            "2282                2012-01-13  ...        4.0     3.0    22.0   \n",
            "2289                2012-01-25  ...        4.0     3.0    22.0   \n",
            "2338                2012-04-04  ...        5.0     3.0    22.0   \n",
            "\n",
            "      ClosingBestBid  ClosingBestBidDate  ClosingBestAsk  ClosingBestAskDate  \\\n",
            "66               NaN          2011-12-06             NaN          2011-12-06   \n",
            "306              NaN          2012-11-20             NaN          2012-11-20   \n",
            "2282            86.0          2012-01-13          500.01          2012-01-13   \n",
            "2289            86.0          2012-01-25          501.00          2012-01-25   \n",
            "2338            86.0          2012-04-04          101.00          2012-04-04   \n",
            "\n",
            "      SecurityStatus SharesOutstanding  SharesOutstandingAsOfDate  \n",
            "66            Active               NaN                        NaN  \n",
            "306           Active               NaN                        NaN  \n",
            "2282          Active               NaN                        NaN  \n",
            "2289          Active               NaN                        NaN  \n",
            "2338          Active               NaN                        NaN  \n",
            "\n",
            "[5 rows x 37 columns]\n"
          ]
        }
      ],
      "source": [
        "\n",
        "# Remove rows that contain NaN values in specified columns and create a new DataFrame\n",
        "#Since we are looking at the OTC market transaction, we do not want prcies which are NaNs.\n",
        "cleaned_otc_df = otc_df.dropna(subset=['OpenPrice', 'HighPrice', 'LowPrice', 'LastPrice'])\n",
        "\n",
        "# Display the first few rows of the new cleaned DataFrame\n",
        "print(cleaned_otc_df.head())"
      ]
    },
    {
      "cell_type": "code",
      "execution_count": 29,
      "metadata": {},
      "outputs": [
        {
          "name": "stdout",
          "output_type": "stream",
          "text": [
            "(2431388, 37)\n"
          ]
        }
      ],
      "source": [
        "print(cleaned_otc_df.shape)\n"
      ]
    },
    {
      "cell_type": "code",
      "execution_count": 30,
      "metadata": {},
      "outputs": [
        {
          "name": "stdout",
          "output_type": "stream",
          "text": [
            "(2431388, 37)\n"
          ]
        }
      ],
      "source": [
        "print(cleaned_otc_df.shape)\n"
      ]
    },
    {
      "cell_type": "code",
      "execution_count": 28,
      "metadata": {},
      "outputs": [
        {
          "name": "stdout",
          "output_type": "stream",
          "text": [
            "       SECID  CompID Symbol      CUSIP                 Issue        Venue  \\\n",
            "66    100010  649124  GPGPF  G4205Y111  GUINESS PEAT GRP PLC  Grey Market   \n",
            "306   100010  649124  GPGPF  G4205Y111  GUINESS PEAT GRP PLC  Grey Market   \n",
            "2282   10002   26620   DAFL  262507106       DU ART FILM LAB     OTC Link   \n",
            "2289   10002   26620   DAFL  262507106       DU ART FILM LAB     OTC Link   \n",
            "2338   10002   26620   DAFL  262507106       DU ART FILM LAB     OTC Link   \n",
            "\n",
            "              SecType                 TierName  ClosingInsideBidPrice  \\\n",
            "66    Ordinary Shares              Grey Market                    NaN   \n",
            "306   Ordinary Shares              Grey Market                    NaN   \n",
            "2282     Common Stock  OTC Pink No Information                   86.0   \n",
            "2289     Common Stock  OTC Pink No Information                   86.0   \n",
            "2338     Common Stock  OTC Pink No Information                   86.0   \n",
            "\n",
            "     ClosingInsideBidPriceDate  ...  MMIDCount BFCMmid  TierID  \\\n",
            "66                         NaN  ...        NaN     NaN    30.0   \n",
            "306                        NaN  ...        NaN     NaN    30.0   \n",
            "2282                2012-01-13  ...        4.0     3.0    22.0   \n",
            "2289                2012-01-25  ...        4.0     3.0    22.0   \n",
            "2338                2012-04-04  ...        5.0     3.0    22.0   \n",
            "\n",
            "      ClosingBestBid  ClosingBestBidDate  ClosingBestAsk  ClosingBestAskDate  \\\n",
            "66               NaN          2011-12-06             NaN          2011-12-06   \n",
            "306              NaN          2012-11-20             NaN          2012-11-20   \n",
            "2282            86.0          2012-01-13          500.01          2012-01-13   \n",
            "2289            86.0          2012-01-25          501.00          2012-01-25   \n",
            "2338            86.0          2012-04-04          101.00          2012-04-04   \n",
            "\n",
            "      SecurityStatus SharesOutstanding  SharesOutstandingAsOfDate  \n",
            "66            Active               NaN                        NaN  \n",
            "306           Active               NaN                        NaN  \n",
            "2282          Active               NaN                        NaN  \n",
            "2289          Active               NaN                        NaN  \n",
            "2338          Active               NaN                        NaN  \n",
            "\n",
            "[5 rows x 37 columns]\n"
          ]
        }
      ],
      "source": [
        "print(cleaned_otc_df.head())"
      ]
    },
    {
      "cell_type": "code",
      "execution_count": 31,
      "metadata": {},
      "outputs": [],
      "source": [
        "# Getting a CSV file of the cleaned data.\n",
        "\n",
        "cleaned_otc_df.to_csv('cleaned_otc_df.csv', index=False)"
      ]
    },
    {
      "cell_type": "code",
      "execution_count": 8,
      "metadata": {},
      "outputs": [
        {
          "name": "stdout",
          "output_type": "stream",
          "text": [
            "Loaded 2431388 rows into cis4400GP.OTC_data.\n"
          ]
        }
      ],
      "source": [
        "# Loading the data into Big Query\n",
        "\n",
        "from google.cloud import bigquery\n",
        "\n",
        "# Set up your Google Cloud project ID\n",
        "project_id = 'cis4400-group-project-423420'\n",
        "\n",
        "# Set the path to your service account key file\n",
        "service_account_key_file = 'GC_config.json'\n",
        "\n",
        "# Set up BigQuery client with service account credentials\n",
        "client = bigquery.Client.from_service_account_json(service_account_key_file, project=project_id)\n",
        "\n",
        "# Define your dataset ID\n",
        "dataset_id = 'cis4400GP'\n",
        "\n",
        "# Create the BigQuery dataset if it doesn't exist\n",
        "dataset_ref = client.dataset(dataset_id)\n",
        "dataset = bigquery.Dataset(dataset_ref)\n",
        "dataset = client.create_dataset(dataset, exists_ok=True)  # Use exists_ok=True to avoid errors if the dataset already exists\n",
        "\n",
        "# Set up BigQuery table information\n",
        "table_id = 'OTC_data'\n",
        "\n",
        "# Create the BigQuery table with schema auto-detection (without specifying schema)\n",
        "table_ref = dataset_ref.table(table_id)\n",
        "job_config = bigquery.LoadJobConfig(\n",
        "    autodetect=True,  # Automatically detect schema from CSV file\n",
        "    skip_leading_rows=1,  # Skip the header row\n",
        "    source_format=bigquery.SourceFormat.CSV\n",
        ")\n",
        "\n",
        "# Load CSV file into BigQuery table\n",
        "with open('cleaned_otc_df.csv', 'rb') as source_file:\n",
        "    job = client.load_table_from_file(\n",
        "        source_file,\n",
        "        table_ref,\n",
        "        job_config=job_config\n",
        "    )\n",
        "\n",
        "job.result()  # Waits for the job to complete\n",
        "\n",
        "print(f\"Loaded {job.output_rows} rows into {dataset_id}.{table_id}.\")\n"
      ]
    },
    {
      "cell_type": "code",
      "execution_count": 22,
      "metadata": {},
      "outputs": [
        {
          "name": "stdout",
          "output_type": "stream",
          "text": [
            "[nan 'N' 'A' 'M' 'B' 'C' 'D' 'R' 'Z' 'H' 'P']\n"
          ]
        }
      ],
      "source": [
        "# The following are miscellaneous codes for testing and debugging\n",
        "\n",
        "# These are test codes we did to check if data needed to be cleaned.\n",
        "# Get distinct values in a specific field (column_name)\n",
        "distinct_values = otc_df['Class'].unique()\n",
        " \n",
        "# Display distinct values\n",
        "print(distinct_values)"
      ]
    },
    {
      "cell_type": "code",
      "execution_count": 5,
      "metadata": {
        "colab": {
          "base_uri": "https://localhost:8080/"
        },
        "id": "iNNhMvDEVuFd",
        "outputId": "d4acb52f-de13-43f6-e2f6-86854adc2f59"
      },
      "outputs": [
        {
          "name": "stdout",
          "output_type": "stream",
          "text": [
            "Uploaded otc to Azure Blob Storage in container otcgroup6\n"
          ]
        }
      ],
      "source": [
        "# Specify the path to your JSON configuration file\n",
        "config_file_path = 'config.json'\n",
        "\n",
        "# Load the JSON configuration file\n",
        "with open(config_file_path, 'r') as config_file:\n",
        "    config = json.load(config_file)\n",
        "\n",
        "# Azure Storage connection string and container name\n",
        "CONNECTION_STRING_AZURE_STORAGE = config[\"connectionString\"]\n",
        "container_name = \"otcgroup6\"\n",
        "blob_name = \"otc_data.csv\"\n",
        "\n",
        "# Initialize BlobServiceClient\n",
        "blob_service_client = BlobServiceClient.from_connection_string(CONNECTION_STRING_AZURE_STORAGE)\n",
        "\n",
        "# Create a blob client using the container name and blob name\n",
        "#container_client = blob_service_client.get_container_client(CONTAINER_AZURE)\n",
        "blob_client = blob_service_client.get_blob_client(container=container_name, blob=os.path.basename(file_path))\n",
        "\n",
        "# Upload the csv file to Azure Blob Storage\n",
        "with open(file_path, \"rb\") as data:\n",
        "    blob_client.upload_blob(data)\n",
        "\n",
        "print(f\"Uploaded {blob_name} to Azure Blob Storage in container {container_name}\")\n"
      ]
    },
    {
      "cell_type": "code",
      "execution_count": 3,
      "metadata": {},
      "outputs": [
        {
          "name": "stdout",
          "output_type": "stream",
          "text": [
            "otc_data.csv\n"
          ]
        },
        {
          "name": "stderr",
          "output_type": "stream",
          "text": [
            "C:\\Users\\j.rhee\\AppData\\Local\\Temp\\ipykernel_19780\\2757125731.py:27: DtypeWarning: Columns (7,10,28,29,37,40,43) have mixed types. Specify dtype option on import or set low_memory=False.\n",
            "  df = pd.read_csv(StringIO(blob_content))\n"
          ]
        },
        {
          "name": "stdout",
          "output_type": "stream",
          "text": [
            "(13124597, 44)\n"
          ]
        }
      ],
      "source": [
        "# Specify the path to your JSON configuration file\n",
        "config_file_path = 'config.json'\n",
        "\n",
        "# Load the JSON configuration file\n",
        "with open(config_file_path, 'r') as config_file:\n",
        "    config = json.load(config_file)\n",
        "\n",
        "# Azure Storage connection string and container name\n",
        "CONNECTION_STRING_AZURE_STORAGE = config[\"connectionString\"]\n",
        "container_name = \"otcgroup6\"\n",
        "\n",
        "# Initialize BlobServiceClient\n",
        "blob_service_client = BlobServiceClient.from_connection_string(CONNECTION_STRING_AZURE_STORAGE)\n",
        "\n",
        "# Create a blob client using the container name and blob name\n",
        "blob_client = blob_service_client.get_container_client(container_name)\n",
        "\n",
        "otc_df = pd.DataFrame()\n",
        "\n",
        "# List all blobs in the specified container\n",
        "blob_list = blob_client.list_blobs()\n",
        "for blob in blob_list:\n",
        "    print(blob.name)\n",
        "    blob_client = blob_client.get_blob_client(blob=blob.name)\n",
        "    blob_data = blob_client.download_blob()\n",
        "    blob_content = blob_data.readall().decode('utf-8')\n",
        "    df = pd.read_csv(StringIO(blob_content))\n",
        "\n",
        "    # Display the head of the DataFrame\n",
        "    print(df.shape)\n",
        "\n",
        "    otc_df = df.copy()\n",
        "\n",
        "\n",
        "otc_df.head()"
      ]
    }
  ],
  "metadata": {
    "colab": {
      "provenance": []
    },
    "kernelspec": {
      "display_name": "Python 3",
      "name": "python3"
    },
    "language_info": {
      "codemirror_mode": {
        "name": "ipython",
        "version": 3
      },
      "file_extension": ".py",
      "mimetype": "text/x-python",
      "name": "python",
      "nbconvert_exporter": "python",
      "pygments_lexer": "ipython3",
      "version": "3.10.2"
    }
  },
  "nbformat": 4,
  "nbformat_minor": 0
}
